{
 "cells": [
  {
   "cell_type": "markdown",
   "metadata": {},
   "source": [
    "[![Binder](https://mybinder.org/badge.svg)](https://mybinder.org/v2/gh/pjmartel/teaching/master?filepath=enzymology%2Fdirect_linear_plot_2.ipynb)\n",
    "\n",
    "\n",
    "#### Michaelis-Menten parameters with the direct linear plot\n",
    "\n",
    "This is notebook implements the direct linear plot method\n",
    "for estimation of the Vmax and Km parameters.\n"
   ]
  },
  {
   "cell_type": "code",
   "execution_count": 30,
   "metadata": {
    "colab": {},
    "colab_type": "code",
    "id": "GOOV5px2xma_"
   },
   "outputs": [],
   "source": [
    "# Import necessary modules\n",
    "import numpy as np\n",
    "import pandas as pd\n",
    "import numpy.random as rnd\n",
    "from scipy.stats import linregress\n",
    "import matplotlib.pyplot as plt\n",
    "from matplotlib import style,rcParams\n",
    "from seaborn import regplot\n",
    "from scipy.stats import linregress\n",
    "style.use('default')\n",
    "rcParams.update({'axes.grid': True})\n",
    "rcParams.update({'errorbar.capsize': 2})\n",
    "pd.options.display.float_format = '{:,.3f}'.format\n",
    "import ipywidgets as ipyw\n",
    "import qgrid"
   ]
  },
  {
   "cell_type": "code",
   "execution_count": 31,
   "metadata": {
    "colab": {},
    "colab_type": "code",
    "id": "xwz6hDD6VFJj"
   },
   "outputs": [],
   "source": [
    "# Michaelis-Menten equation\n",
    "def MM(K,V,s):\n",
    "  return V*s/(K+s)"
   ]
  },
  {
   "cell_type": "code",
   "execution_count": 32,
   "metadata": {
    "colab": {},
    "colab_type": "code",
    "id": "MLrDVR-CETuP"
   },
   "outputs": [],
   "source": [
    "# Function to validate input by data type\n",
    "def check_input(f_type,message):\n",
    "    \"\"\"\n",
    "Wrapper around the input function, reads input\n",
    "until it matches the required data type. \n",
    "    \"\"\"\n",
    "    flag = True\n",
    "    while flag:\n",
    "        value = input(message)\n",
    "        try:\n",
    "            value = f_type(value)\n",
    "            flag = False\n",
    "        except ValueError:\n",
    "            pass\n",
    "    return value"
   ]
  },
  {
   "cell_type": "code",
   "execution_count": 33,
   "metadata": {
    "colab": {},
    "colab_type": "code",
    "id": "MLrDVR-CETuP"
   },
   "outputs": [
    {
     "name": "stdout",
     "output_type": "stream",
     "text": [
      "Number of points? 4\n",
      "Number of replicates? 1\n"
     ]
    }
   ],
   "source": [
    "# Read the number of points and replicates\n",
    "npoints = check_input(int,\"Number of points? \")\n",
    "nrepl = check_input(int,\"Number of replicates? \")"
   ]
  },
  {
   "cell_type": "code",
   "execution_count": 34,
   "metadata": {
    "colab": {},
    "colab_type": "code",
    "id": "mu_up7rDEhhW"
   },
   "outputs": [
    {
     "data": {
      "application/vnd.jupyter.widget-view+json": {
       "model_id": "2a928446a4334fbe938050acd61675b0",
       "version_major": 2,
       "version_minor": 0
      },
      "text/plain": [
       "QgridWidget(grid_options={'fullWidthRows': True, 'syncColumnCellResize': True, 'forceFitColumns': True, 'defau…"
      ]
     },
     "metadata": {},
     "output_type": "display_data"
    }
   ],
   "source": [
    "# create an empy pandas data frame with the\n",
    "# npoint lines and nrepl+1 columns\n",
    "#\n",
    "columns = ['[A]']\n",
    "columns = columns + ['v'+str(i+1) for i in range(nrepl)]\n",
    "enz_data = pd.DataFrame(np.zeros((npoints, nrepl+1)),columns=columns)\n",
    "# Create a qgrid table to input the data\n",
    "qgrid_widget = qgrid.show_grid(enz_data, show_toolbar=False)\n",
    "qgrid_widget.layout = ipyw.Layout(width='50%')\n",
    "qgrid_widget"
   ]
  },
  {
   "cell_type": "code",
   "execution_count": 26,
   "metadata": {
    "colab": {},
    "colab_type": "code",
    "id": "36ORiKFSEtg9"
   },
   "outputs": [
    {
     "data": {
      "text/html": [
       "<div>\n",
       "<style scoped>\n",
       "    .dataframe tbody tr th:only-of-type {\n",
       "        vertical-align: middle;\n",
       "    }\n",
       "\n",
       "    .dataframe tbody tr th {\n",
       "        vertical-align: top;\n",
       "    }\n",
       "\n",
       "    .dataframe thead th {\n",
       "        text-align: right;\n",
       "    }\n",
       "</style>\n",
       "<table border=\"1\" class=\"dataframe\">\n",
       "  <thead>\n",
       "    <tr style=\"text-align: right;\">\n",
       "      <th></th>\n",
       "      <th>[A]</th>\n",
       "      <th>v1</th>\n",
       "      <th>Mean v</th>\n",
       "      <th>Std v</th>\n",
       "    </tr>\n",
       "  </thead>\n",
       "  <tbody>\n",
       "    <tr>\n",
       "      <th>0</th>\n",
       "      <td>1.000</td>\n",
       "      <td>5.000</td>\n",
       "      <td>5.000</td>\n",
       "      <td>nan</td>\n",
       "    </tr>\n",
       "    <tr>\n",
       "      <th>1</th>\n",
       "      <td>2.000</td>\n",
       "      <td>6.000</td>\n",
       "      <td>6.000</td>\n",
       "      <td>nan</td>\n",
       "    </tr>\n",
       "    <tr>\n",
       "      <th>2</th>\n",
       "      <td>3.000</td>\n",
       "      <td>7.000</td>\n",
       "      <td>7.000</td>\n",
       "      <td>nan</td>\n",
       "    </tr>\n",
       "  </tbody>\n",
       "</table>\n",
       "</div>"
      ],
      "text/plain": [
       "    [A]    v1  Mean v  Std v\n",
       "0 1.000 5.000   5.000    nan\n",
       "1 2.000 6.000   6.000    nan\n",
       "2 3.000 7.000   7.000    nan"
      ]
     },
     "execution_count": 26,
     "metadata": {},
     "output_type": "execute_result"
    }
   ],
   "source": [
    "enz_data = qgrid_widget.get_changed_df()\n",
    "enz_data['Mean v']=enz_data.iloc[:,1:].mean(axis=1)\n",
    "enz_data['Std v']=enz_data.iloc[:,1:-1].std(axis=1)\n",
    "#enz_data['fit_error']=enz_data['Mean v']-MM(Km,Vmax,enz_data['[A]'])\n",
    "enz_data"
   ]
  },
  {
   "cell_type": "code",
   "execution_count": 27,
   "metadata": {
    "colab": {},
    "colab_type": "code",
    "id": "DIWli7i5E2B1"
   },
   "outputs": [],
   "source": [
    "# Get concentrations and velocities from the dataframe\n",
    "v = np.array(enz_data.iloc[:,1:-2])\n",
    "s = np.array(enz_data['[A]'])"
   ]
  },
  {
   "cell_type": "code",
   "execution_count": 29,
   "metadata": {
    "colab": {
     "base_uri": "https://localhost:8080/",
     "height": 448
    },
    "colab_type": "code",
    "id": "5N1abME5D74R",
    "outputId": "14912161-5b57-4936-8188-934e1696b5ea"
   },
   "outputs": [
    {
     "name": "stdout",
     "output_type": "stream",
     "text": [
      "Computing 3 intersections\n",
      "Direct Linear plot estimates:\n",
      "    Km = 0.750, Vmax= 8.750\n"
     ]
    },
    {
     "data": {
      "image/png": "[encoded data removed]",
      "text/plain": [
       "<Figure size 640x480 with 1 Axes>"
      ]
     },
     "metadata": {},
     "output_type": "display_data"
    }
   ],
   "source": [
    "# Eisenthal Cornish-Bowden direct linear plot\n",
    "vm = v.mean(axis=1)\n",
    "x = np.arange(-s.max(),s.max(),0.01)\n",
    "int_Vmax = []\n",
    "int_Km = []\n",
    "mmlines = np.vstack((vm/s,vm)).T\n",
    "n_int = len(s)*(len(s)-1)//2\n",
    "#Km_int = np.zeros(n_int)\n",
    "#Vmax_int = np.zeros(n_int)\n",
    "\n",
    "for m, b in mmlines:\n",
    "  plt.plot(x,m*x+b)\n",
    "\n",
    "print(\"Computing {:d} intersections\".format(n_int))\n",
    "for i in range(mmlines.shape[0]):\n",
    "  for j in range(i):\n",
    "    m1, b1 = mmlines[i]\n",
    "    m2, b2 = mmlines[j]\n",
    "    x = (b2-b1)/(m1-m2)\n",
    "    y = (b2*m1-b1*m2)/(m1-m2)\n",
    "    int_Km.append(x)\n",
    "    int_Vmax.append(y)\n",
    "    #print(x,y)\n",
    "    #pass\n",
    "    #print(i,j,mmlines[i],mmlines[j])rray python\n",
    "\n",
    "ax = plt.gca()\n",
    "ax.axis([-1.1*s.max(),1.1*s.max(),-2*vm.max(),2*vm.max()])\n",
    "ax.spines['left'].set_position('center')\n",
    "ax.spines['bottom'].set_position('center')\n",
    "ax.spines['right'].set_color('none')\n",
    "ax.spines['top'].set_color('none')\n",
    "ax.xaxis.set_ticks_position('bottom')\n",
    "ax.yaxis.set_ticks_position('left')\n",
    "ax.set_xlabel(\"Km\",x=0.9)\n",
    "ax.set_ylabel(\"Vmax\",y=0.9)\n",
    "\n",
    "# Remove zeros on x an y axis\n",
    "import matplotlib.ticker as ticker\n",
    "func = lambda x, pos: \"\" if np.isclose(x,0) else x\n",
    "ax.xaxis.set_major_formatter(ticker.FuncFormatter(func))\n",
    "ax.yaxis.set_major_formatter(ticker.FuncFormatter(func))\n",
    "\n",
    "ECB_Km = np.median(int_Km)\n",
    "ECB_Vmax = np.median(int_Vmax)\n",
    "print(\"Direct Linear plot estimates:\") \n",
    "print(\"    Km = {:5.3f}, Vmax= {:5.3f}\".format(ECB_Km, ECB_Vmax))"
   ]
  },
  {
   "cell_type": "code",
   "execution_count": null,
   "metadata": {},
   "outputs": [],
   "source": []
  }
 ],
 "metadata": {
  "colab": {
   "collapsed_sections": [],
   "name": "Enzymolgy_qgrid.ipynb",
   "provenance": []
  },
  "kernelspec": {
   "display_name": "Python 3",
   "language": "python",
   "name": "python3"
  },
  "language_info": {
   "codemirror_mode": {
    "name": "ipython",
    "version": 3
   },
   "file_extension": ".py",
   "mimetype": "text/x-python",
   "name": "python",
   "nbconvert_exporter": "python",
   "pygments_lexer": "ipython3",
   "version": "3.6.9"
  }
 },
 "nbformat": 4,
 "nbformat_minor": 1
}
