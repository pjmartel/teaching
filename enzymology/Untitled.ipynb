{
 "cells": [
  {
   "cell_type": "code",
   "execution_count": 352,
   "metadata": {},
   "outputs": [],
   "source": [
    "import numpy as np\n",
    "import pandas as pd\n",
    "from scipy.optimize import fsolve\n",
    "import matplotlib.pyplot as plt\n",
    "from scipy.stats import linregress\n",
    "import numpy.random as rnd\n",
    "pd.options.display.float_format = '{:,.3f}'.format"
   ]
  },
  {
   "cell_type": "code",
   "execution_count": 328,
   "metadata": {},
   "outputs": [],
   "source": [
    "Km = 1.4e-5 # Molar\n",
    "Vmax = 3.2e-5 # 20 umol / seg\n",
    "tmax = 1.5 # seg\n",
    "dt = 10 #\n",
    "a = 10.0e-6 # Molar\n",
    "#a = Km # Molar\n",
    "t = np.arange(0,tmax+0.1,0.1)\n",
    "std_dev = 0.03"
   ]
  },
  {
   "cell_type": "code",
   "execution_count": 330,
   "metadata": {},
   "outputs": [
    {
     "data": {
      "text/plain": [
       "array([0. , 0.1, 0.2, 0.3, 0.4, 0.5, 0.6, 0.7, 0.8, 0.9, 1. , 1.1, 1.2,\n",
       "       1.3, 1.4, 1.5])"
      ]
     },
     "execution_count": 330,
     "metadata": {},
     "output_type": "execute_result"
    }
   ],
   "source": [
    "t"
   ]
  },
  {
   "cell_type": "code",
   "execution_count": 349,
   "metadata": {},
   "outputs": [
    {
     "data": {
      "text/html": [
       "<div>\n",
       "<style scoped>\n",
       "    .dataframe tbody tr th:only-of-type {\n",
       "        vertical-align: middle;\n",
       "    }\n",
       "\n",
       "    .dataframe tbody tr th {\n",
       "        vertical-align: top;\n",
       "    }\n",
       "\n",
       "    .dataframe thead th {\n",
       "        text-align: right;\n",
       "    }\n",
       "</style>\n",
       "<table border=\"1\" class=\"dataframe\">\n",
       "  <thead>\n",
       "    <tr style=\"text-align: right;\">\n",
       "      <th></th>\n",
       "      <th>[A]</th>\n",
       "      <th>t=0s</th>\n",
       "      <th>t=1s</th>\n",
       "      <th>t=2s</th>\n",
       "      <th>t=3s</th>\n",
       "      <th>t=4s</th>\n",
       "      <th>t=5s</th>\n",
       "      <th>t=6s</th>\n",
       "      <th>t=7s</th>\n",
       "      <th>t=8s</th>\n",
       "      <th>t=9s</th>\n",
       "      <th>t=10s</th>\n",
       "      <th>t=11s</th>\n",
       "      <th>t=12s</th>\n",
       "      <th>t=13s</th>\n",
       "      <th>t=14s</th>\n",
       "      <th>t=15s</th>\n",
       "    </tr>\n",
       "  </thead>\n",
       "  <tbody>\n",
       "    <tr>\n",
       "      <th>0</th>\n",
       "      <td>0.0</td>\n",
       "      <td>1.0</td>\n",
       "      <td>2.0</td>\n",
       "      <td>3.0</td>\n",
       "      <td>4.0</td>\n",
       "      <td>5.0</td>\n",
       "      <td>6.0</td>\n",
       "      <td>7.0</td>\n",
       "      <td>8.0</td>\n",
       "      <td>9.0</td>\n",
       "      <td>10.0</td>\n",
       "      <td>11.0</td>\n",
       "      <td>12.0</td>\n",
       "      <td>13.0</td>\n",
       "      <td>14.0</td>\n",
       "      <td>15.0</td>\n",
       "      <td>16.0</td>\n",
       "    </tr>\n",
       "  </tbody>\n",
       "</table>\n",
       "</div>"
      ],
      "text/plain": [
       "   [A]  t=0s  t=1s  t=2s  t=3s  t=4s  t=5s  t=6s  t=7s  t=8s  t=9s  t=10s  \\\n",
       "0  0.0   1.0   2.0   3.0   4.0   5.0   6.0   7.0   8.0   9.0  10.0   11.0   \n",
       "\n",
       "   t=11s  t=12s  t=13s  t=14s  t=15s  \n",
       "0   12.0   13.0   14.0   15.0   16.0  "
      ]
     },
     "execution_count": 349,
     "metadata": {},
     "output_type": "execute_result"
    }
   ],
   "source": [
    "# create an empy pandas data frame with the\n",
    "# npoint lines and nrepl+1 columns\n",
    "#\n",
    "columns = ['[A]']\n",
    "columns = columns + ['t='+str(i)+'s' for i in range(len(t))]\n",
    "enz_data = pd.DataFrame(np.zeros((0, len(t)+1)),columns=columns)\n",
    "#enz_data.loc['0']=\n",
    "enz_data.loc[0] = range(17)\n",
    "enz_data"
   ]
  },
  {
   "cell_type": "code",
   "execution_count": 341,
   "metadata": {},
   "outputs": [],
   "source": [
    "# Integrated form of Michaelis-Menten equation\n",
    "def int_mm(x,a,t,vmax,km):\n",
    "    return x+km*(np.log(a)-np.log((a-x)))-vmax*t"
   ]
  },
  {
   "cell_type": "code",
   "execution_count": 353,
   "metadata": {},
   "outputs": [
    {
     "name": "stdout",
     "output_type": "stream",
     "text": [
      " 0.00 0.00e+00  0.00\n",
      " 0.10 1.28e-06  0.13\n",
      " 0.20 2.46e-06  0.25\n",
      " 0.30 3.52e-06  0.35\n",
      " 0.40 4.48e-06  0.45\n",
      " 0.50 5.33e-06  0.53\n",
      " 0.60 6.08e-06  0.61\n",
      " 0.70 6.73e-06  0.67\n",
      " 0.80 7.30e-06  0.73\n",
      " 0.90 7.77e-06  0.78\n",
      " 1.00 8.18e-06  0.82\n",
      " 1.10 8.51e-06  0.85\n",
      " 1.20 8.79e-06  0.88\n",
      " 1.30 9.02e-06  0.90\n",
      " 1.40 9.21e-06  0.92\n",
      " 1.50 9.37e-06  0.94\n"
     ]
    },
    {
     "data": {
      "text/html": [
       "<div>\n",
       "<style scoped>\n",
       "    .dataframe tbody tr th:only-of-type {\n",
       "        vertical-align: middle;\n",
       "    }\n",
       "\n",
       "    .dataframe tbody tr th {\n",
       "        vertical-align: top;\n",
       "    }\n",
       "\n",
       "    .dataframe thead th {\n",
       "        text-align: right;\n",
       "    }\n",
       "</style>\n",
       "<table border=\"1\" class=\"dataframe\">\n",
       "  <thead>\n",
       "    <tr style=\"text-align: right;\">\n",
       "      <th></th>\n",
       "      <th>[A]</th>\n",
       "      <th>t=0s</th>\n",
       "      <th>t=1s</th>\n",
       "      <th>t=2s</th>\n",
       "      <th>t=3s</th>\n",
       "      <th>t=4s</th>\n",
       "      <th>t=5s</th>\n",
       "      <th>t=6s</th>\n",
       "      <th>t=7s</th>\n",
       "      <th>t=8s</th>\n",
       "      <th>t=9s</th>\n",
       "      <th>t=10s</th>\n",
       "      <th>t=11s</th>\n",
       "      <th>t=12s</th>\n",
       "      <th>t=13s</th>\n",
       "      <th>t=14s</th>\n",
       "      <th>t=15s</th>\n",
       "    </tr>\n",
       "  </thead>\n",
       "  <tbody>\n",
       "    <tr>\n",
       "      <th>0</th>\n",
       "      <td>0.000</td>\n",
       "      <td>0.000</td>\n",
       "      <td>0.000</td>\n",
       "      <td>0.000</td>\n",
       "      <td>0.000</td>\n",
       "      <td>0.000</td>\n",
       "      <td>0.000</td>\n",
       "      <td>0.000</td>\n",
       "      <td>0.000</td>\n",
       "      <td>0.000</td>\n",
       "      <td>0.000</td>\n",
       "      <td>0.000</td>\n",
       "      <td>0.000</td>\n",
       "      <td>0.000</td>\n",
       "      <td>0.000</td>\n",
       "      <td>0.000</td>\n",
       "      <td>0.000</td>\n",
       "    </tr>\n",
       "  </tbody>\n",
       "</table>\n",
       "</div>"
      ],
      "text/plain": [
       "    [A]  t=0s  t=1s  t=2s  t=3s  t=4s  t=5s  t=6s  t=7s  t=8s  t=9s  t=10s  \\\n",
       "0 0.000 0.000 0.000 0.000 0.000 0.000 0.000 0.000 0.000 0.000 0.000  0.000   \n",
       "\n",
       "   t=11s  t=12s  t=13s  t=14s  t=15s  \n",
       "0  0.000  0.000  0.000  0.000  0.000  "
      ]
     },
     "execution_count": 353,
     "metadata": {},
     "output_type": "execute_result"
    }
   ],
   "source": [
    "course = []\n",
    "for tt in t:\n",
    "    b = fsolve(int_mm, 1.8e-10,args=(a,tt,Vmax,Km),xtol=1e-10)\n",
    "    print(\"{:5.2f} {:5.2e} {:5.2f}\".format(tt,b[0],b[0]/a))\n",
    "    err = rnd.normal(0,std_dev*b[0])\n",
    "    course.append(b[0]+err)\n",
    "x = [a]\n",
    "x = [a]+[s for s in course]\n",
    "enz_data.loc[0]=x\n",
    "enz_data"
   ]
  },
  {
   "cell_type": "code",
   "execution_count": 285,
   "metadata": {},
   "outputs": [
    {
     "data": {
      "text/plain": [
       "array([0. , 0.1, 0.2, 0.3, 0.4, 0.5, 0.6, 0.7, 0.8, 0.9, 1. , 1.1, 1.2,\n",
       "       1.3, 1.4, 1.5])"
      ]
     },
     "execution_count": 285,
     "metadata": {},
     "output_type": "execute_result"
    }
   ],
   "source": [
    "t"
   ]
  },
  {
   "cell_type": "code",
   "execution_count": 286,
   "metadata": {},
   "outputs": [
    {
     "data": {
      "text/plain": [
       "[<matplotlib.lines.Line2D at 0x7ff8cbb2c668>]"
      ]
     },
     "execution_count": 286,
     "metadata": {},
     "output_type": "execute_result"
    },
    {
     "data": {
      "image/png": "[encoded data removed]",
      "text/plain": [
       "<Figure size 432x288 with 1 Axes>"
      ]
     },
     "metadata": {
      "needs_background": "light"
     },
     "output_type": "display_data"
    }
   ],
   "source": [
    "plt.plot(t,course,'r.')"
   ]
  },
  {
   "cell_type": "code",
   "execution_count": 295,
   "metadata": {},
   "outputs": [
    {
     "data": {
      "text/plain": [
       "(1.2491466103103646e-05, 1.0587911840678754e-22, 1.0)"
      ]
     },
     "execution_count": 295,
     "metadata": {},
     "output_type": "execute_result"
    }
   ],
   "source": [
    "#fitting on the n first points\n",
    "N = 2\n",
    "m, b,r,_,_ = linregress(t[:N],course[:N])\n",
    "m,b,r"
   ]
  },
  {
   "cell_type": "code",
   "execution_count": 293,
   "metadata": {},
   "outputs": [
    {
     "data": {
      "text/plain": [
       "1.3333333333333335e-05"
      ]
     },
     "execution_count": 293,
     "metadata": {},
     "output_type": "execute_result"
    }
   ],
   "source": [
    "Vmax*a/(Km+a)"
   ]
  },
  {
   "cell_type": "code",
   "execution_count": 290,
   "metadata": {},
   "outputs": [
    {
     "data": {
      "text/plain": [
       "(1.4e-05, 3.2e-05, 1e-05)"
      ]
     },
     "execution_count": 290,
     "metadata": {},
     "output_type": "execute_result"
    }
   ],
   "source": [
    "Km, Vmax, a"
   ]
  },
  {
   "cell_type": "code",
   "execution_count": null,
   "metadata": {},
   "outputs": [],
   "source": []
  }
 ],
 "metadata": {
  "kernelspec": {
   "display_name": "Python 3",
   "language": "python",
   "name": "python3"
  },
  "language_info": {
   "codemirror_mode": {
    "name": "ipython",
    "version": 3
   },
   "file_extension": ".py",
   "mimetype": "text/x-python",
   "name": "python",
   "nbconvert_exporter": "python",
   "pygments_lexer": "ipython3",
   "version": "3.6.9"
  }
 },
 "nbformat": 4,
 "nbformat_minor": 4
}
